{
 "cells": [
  {
   "cell_type": "markdown",
   "metadata": {},
   "source": [
    "# Parch and Posey\n",
    "\n",
    "Parch and Posey, a company that sells paper. They have fifty sales reps spread across the US in four regions. They sell three types of papers: regular, poster and glossy. Their clients are primarily large forture 100 companies who they attract by advertising on Google, Facebook and Twitter.\n",
    "\n",
    "Example of questins we’d like to answer: Which product line is worst performin? Which of their marketing channels they should make a big investment in."
   ]
  },
  {
   "cell_type": "markdown",
   "metadata": {},
   "source": [
    "Parch and Posey database has five tables: \n",
    "- accounts: all client accounts\n",
    "- region: geographic regions of the market\n",
    "- sales_rep: inforamation related to sales representatives in different regions\n",
    "- web_events: advertising information\n",
    "- orders: all data related to order\n",
    "Entity relationship diagram of the tables: \n",
    "![ERD](erd.png \"ERD\")\n",
    "\n"
   ]
  },
  {
   "cell_type": "code",
   "execution_count": 16,
   "metadata": {
    "collapsed": true
   },
   "outputs": [],
   "source": [
    "#load all libraries\n",
    "import pandas as pd\n",
    "import numpy as np\n",
    "import matplotlib.pyplot as plt\n",
    "import seaborn as sns\n",
    "\n",
    "%matplotlib inline"
   ]
  },
  {
   "cell_type": "code",
   "execution_count": 5,
   "metadata": {
    "collapsed": true
   },
   "outputs": [],
   "source": [
    "#load the data files\n",
    "accounts = pd.read_csv('accounts.csv')\n",
    "region = pd.read_csv('region.csv')\n",
    "sales_rep = pd.read_csv('sales_rep.csv')\n",
    "web_events = pd.read_csv('web_events.csv')\n",
    "orders = pd.read_csv('orders.csv')"
   ]
  },
  {
   "cell_type": "code",
   "execution_count": 6,
   "metadata": {},
   "outputs": [
    {
     "data": {
      "text/html": [
       "<div>\n",
       "<style>\n",
       "    .dataframe thead tr:only-child th {\n",
       "        text-align: right;\n",
       "    }\n",
       "\n",
       "    .dataframe thead th {\n",
       "        text-align: left;\n",
       "    }\n",
       "\n",
       "    .dataframe tbody tr th {\n",
       "        vertical-align: top;\n",
       "    }\n",
       "</style>\n",
       "<table border=\"1\" class=\"dataframe\">\n",
       "  <thead>\n",
       "    <tr style=\"text-align: right;\">\n",
       "      <th></th>\n",
       "      <th>id</th>\n",
       "      <th>name</th>\n",
       "      <th>website</th>\n",
       "      <th>lat</th>\n",
       "      <th>long</th>\n",
       "      <th>primary_poc</th>\n",
       "      <th>sales_rep_id</th>\n",
       "    </tr>\n",
       "  </thead>\n",
       "  <tbody>\n",
       "    <tr>\n",
       "      <th>0</th>\n",
       "      <td>1001</td>\n",
       "      <td>Walmart</td>\n",
       "      <td>www.walmart.com</td>\n",
       "      <td>40.238496</td>\n",
       "      <td>-75.103297</td>\n",
       "      <td>Tamara Tuma</td>\n",
       "      <td>321500</td>\n",
       "    </tr>\n",
       "    <tr>\n",
       "      <th>1</th>\n",
       "      <td>1011</td>\n",
       "      <td>Exxon Mobil</td>\n",
       "      <td>www.exxonmobil.com</td>\n",
       "      <td>41.169156</td>\n",
       "      <td>-73.849374</td>\n",
       "      <td>Sung Shields</td>\n",
       "      <td>321510</td>\n",
       "    </tr>\n",
       "    <tr>\n",
       "      <th>2</th>\n",
       "      <td>1021</td>\n",
       "      <td>Apple</td>\n",
       "      <td>www.apple.com</td>\n",
       "      <td>42.290495</td>\n",
       "      <td>-76.084009</td>\n",
       "      <td>Jodee Lupo</td>\n",
       "      <td>321520</td>\n",
       "    </tr>\n",
       "    <tr>\n",
       "      <th>3</th>\n",
       "      <td>1031</td>\n",
       "      <td>Berkshire Hathaway</td>\n",
       "      <td>www.berkshirehathaway.com</td>\n",
       "      <td>40.949021</td>\n",
       "      <td>-75.763898</td>\n",
       "      <td>Serafina Banda</td>\n",
       "      <td>321530</td>\n",
       "    </tr>\n",
       "    <tr>\n",
       "      <th>4</th>\n",
       "      <td>1041</td>\n",
       "      <td>McKesson</td>\n",
       "      <td>www.mckesson.com</td>\n",
       "      <td>42.217093</td>\n",
       "      <td>-75.284998</td>\n",
       "      <td>Angeles Crusoe</td>\n",
       "      <td>321540</td>\n",
       "    </tr>\n",
       "  </tbody>\n",
       "</table>\n",
       "</div>"
      ],
      "text/plain": [
       "     id                name                    website        lat       long  \\\n",
       "0  1001             Walmart            www.walmart.com  40.238496 -75.103297   \n",
       "1  1011         Exxon Mobil         www.exxonmobil.com  41.169156 -73.849374   \n",
       "2  1021               Apple              www.apple.com  42.290495 -76.084009   \n",
       "3  1031  Berkshire Hathaway  www.berkshirehathaway.com  40.949021 -75.763898   \n",
       "4  1041            McKesson           www.mckesson.com  42.217093 -75.284998   \n",
       "\n",
       "      primary_poc  sales_rep_id  \n",
       "0     Tamara Tuma        321500  \n",
       "1    Sung Shields        321510  \n",
       "2      Jodee Lupo        321520  \n",
       "3  Serafina Banda        321530  \n",
       "4  Angeles Crusoe        321540  "
      ]
     },
     "execution_count": 6,
     "metadata": {},
     "output_type": "execute_result"
    }
   ],
   "source": [
    "#try peeping the data\n",
    "accounts.head()"
   ]
  },
  {
   "cell_type": "code",
   "execution_count": 7,
   "metadata": {},
   "outputs": [
    {
     "data": {
      "text/html": [
       "<div>\n",
       "<style>\n",
       "    .dataframe thead tr:only-child th {\n",
       "        text-align: right;\n",
       "    }\n",
       "\n",
       "    .dataframe thead th {\n",
       "        text-align: left;\n",
       "    }\n",
       "\n",
       "    .dataframe tbody tr th {\n",
       "        vertical-align: top;\n",
       "    }\n",
       "</style>\n",
       "<table border=\"1\" class=\"dataframe\">\n",
       "  <thead>\n",
       "    <tr style=\"text-align: right;\">\n",
       "      <th></th>\n",
       "      <th>id</th>\n",
       "      <th>name</th>\n",
       "    </tr>\n",
       "  </thead>\n",
       "  <tbody>\n",
       "    <tr>\n",
       "      <th>0</th>\n",
       "      <td>1</td>\n",
       "      <td>Northeast</td>\n",
       "    </tr>\n",
       "    <tr>\n",
       "      <th>1</th>\n",
       "      <td>2</td>\n",
       "      <td>Midwest</td>\n",
       "    </tr>\n",
       "    <tr>\n",
       "      <th>2</th>\n",
       "      <td>3</td>\n",
       "      <td>Southeast</td>\n",
       "    </tr>\n",
       "    <tr>\n",
       "      <th>3</th>\n",
       "      <td>4</td>\n",
       "      <td>West</td>\n",
       "    </tr>\n",
       "  </tbody>\n",
       "</table>\n",
       "</div>"
      ],
      "text/plain": [
       "   id       name\n",
       "0   1  Northeast\n",
       "1   2    Midwest\n",
       "2   3  Southeast\n",
       "3   4       West"
      ]
     },
     "execution_count": 7,
     "metadata": {},
     "output_type": "execute_result"
    }
   ],
   "source": [
    "region.head()"
   ]
  },
  {
   "cell_type": "code",
   "execution_count": 8,
   "metadata": {},
   "outputs": [
    {
     "data": {
      "text/html": [
       "<div>\n",
       "<style>\n",
       "    .dataframe thead tr:only-child th {\n",
       "        text-align: right;\n",
       "    }\n",
       "\n",
       "    .dataframe thead th {\n",
       "        text-align: left;\n",
       "    }\n",
       "\n",
       "    .dataframe tbody tr th {\n",
       "        vertical-align: top;\n",
       "    }\n",
       "</style>\n",
       "<table border=\"1\" class=\"dataframe\">\n",
       "  <thead>\n",
       "    <tr style=\"text-align: right;\">\n",
       "      <th></th>\n",
       "      <th>id</th>\n",
       "      <th>name</th>\n",
       "      <th>region_id</th>\n",
       "    </tr>\n",
       "  </thead>\n",
       "  <tbody>\n",
       "    <tr>\n",
       "      <th>0</th>\n",
       "      <td>321500</td>\n",
       "      <td>Samuel Racine</td>\n",
       "      <td>1</td>\n",
       "    </tr>\n",
       "    <tr>\n",
       "      <th>1</th>\n",
       "      <td>321510</td>\n",
       "      <td>Eugena Esser</td>\n",
       "      <td>1</td>\n",
       "    </tr>\n",
       "    <tr>\n",
       "      <th>2</th>\n",
       "      <td>321520</td>\n",
       "      <td>Michel Averette</td>\n",
       "      <td>1</td>\n",
       "    </tr>\n",
       "    <tr>\n",
       "      <th>3</th>\n",
       "      <td>321530</td>\n",
       "      <td>Renetta Carew</td>\n",
       "      <td>1</td>\n",
       "    </tr>\n",
       "    <tr>\n",
       "      <th>4</th>\n",
       "      <td>321540</td>\n",
       "      <td>Cara Clarke</td>\n",
       "      <td>1</td>\n",
       "    </tr>\n",
       "  </tbody>\n",
       "</table>\n",
       "</div>"
      ],
      "text/plain": [
       "       id             name  region_id\n",
       "0  321500    Samuel Racine          1\n",
       "1  321510     Eugena Esser          1\n",
       "2  321520  Michel Averette          1\n",
       "3  321530    Renetta Carew          1\n",
       "4  321540      Cara Clarke          1"
      ]
     },
     "execution_count": 8,
     "metadata": {},
     "output_type": "execute_result"
    }
   ],
   "source": [
    "sales_rep.head()"
   ]
  },
  {
   "cell_type": "code",
   "execution_count": 9,
   "metadata": {},
   "outputs": [
    {
     "data": {
      "text/html": [
       "<div>\n",
       "<style>\n",
       "    .dataframe thead tr:only-child th {\n",
       "        text-align: right;\n",
       "    }\n",
       "\n",
       "    .dataframe thead th {\n",
       "        text-align: left;\n",
       "    }\n",
       "\n",
       "    .dataframe tbody tr th {\n",
       "        vertical-align: top;\n",
       "    }\n",
       "</style>\n",
       "<table border=\"1\" class=\"dataframe\">\n",
       "  <thead>\n",
       "    <tr style=\"text-align: right;\">\n",
       "      <th></th>\n",
       "      <th>id</th>\n",
       "      <th>account_id</th>\n",
       "      <th>occurred_at</th>\n",
       "      <th>channel</th>\n",
       "    </tr>\n",
       "  </thead>\n",
       "  <tbody>\n",
       "    <tr>\n",
       "      <th>0</th>\n",
       "      <td>1</td>\n",
       "      <td>1001</td>\n",
       "      <td>2015-10-06T17:13:58.000Z</td>\n",
       "      <td>direct</td>\n",
       "    </tr>\n",
       "    <tr>\n",
       "      <th>1</th>\n",
       "      <td>2</td>\n",
       "      <td>1001</td>\n",
       "      <td>2015-11-05T03:08:26.000Z</td>\n",
       "      <td>direct</td>\n",
       "    </tr>\n",
       "    <tr>\n",
       "      <th>2</th>\n",
       "      <td>3</td>\n",
       "      <td>1001</td>\n",
       "      <td>2015-12-04T03:57:24.000Z</td>\n",
       "      <td>direct</td>\n",
       "    </tr>\n",
       "    <tr>\n",
       "      <th>3</th>\n",
       "      <td>4</td>\n",
       "      <td>1001</td>\n",
       "      <td>2016-01-02T00:55:03.000Z</td>\n",
       "      <td>direct</td>\n",
       "    </tr>\n",
       "    <tr>\n",
       "      <th>4</th>\n",
       "      <td>5</td>\n",
       "      <td>1001</td>\n",
       "      <td>2016-02-01T19:02:33.000Z</td>\n",
       "      <td>direct</td>\n",
       "    </tr>\n",
       "  </tbody>\n",
       "</table>\n",
       "</div>"
      ],
      "text/plain": [
       "   id  account_id               occurred_at channel\n",
       "0   1        1001  2015-10-06T17:13:58.000Z  direct\n",
       "1   2        1001  2015-11-05T03:08:26.000Z  direct\n",
       "2   3        1001  2015-12-04T03:57:24.000Z  direct\n",
       "3   4        1001  2016-01-02T00:55:03.000Z  direct\n",
       "4   5        1001  2016-02-01T19:02:33.000Z  direct"
      ]
     },
     "execution_count": 9,
     "metadata": {},
     "output_type": "execute_result"
    }
   ],
   "source": [
    "web_events.head()"
   ]
  },
  {
   "cell_type": "code",
   "execution_count": 10,
   "metadata": {},
   "outputs": [
    {
     "data": {
      "text/html": [
       "<div>\n",
       "<style>\n",
       "    .dataframe thead tr:only-child th {\n",
       "        text-align: right;\n",
       "    }\n",
       "\n",
       "    .dataframe thead th {\n",
       "        text-align: left;\n",
       "    }\n",
       "\n",
       "    .dataframe tbody tr th {\n",
       "        vertical-align: top;\n",
       "    }\n",
       "</style>\n",
       "<table border=\"1\" class=\"dataframe\">\n",
       "  <thead>\n",
       "    <tr style=\"text-align: right;\">\n",
       "      <th></th>\n",
       "      <th>id</th>\n",
       "      <th>account_id</th>\n",
       "      <th>occurred_at</th>\n",
       "      <th>standard_qty</th>\n",
       "      <th>gloss_qty</th>\n",
       "      <th>poster_qty</th>\n",
       "      <th>total</th>\n",
       "      <th>standard_amt_usd</th>\n",
       "      <th>gloss_amt_usd</th>\n",
       "      <th>poster_amt_usd</th>\n",
       "      <th>total_amt_usd</th>\n",
       "    </tr>\n",
       "  </thead>\n",
       "  <tbody>\n",
       "    <tr>\n",
       "      <th>0</th>\n",
       "      <td>1</td>\n",
       "      <td>1001</td>\n",
       "      <td>2015-10-06T17:31:14.000Z</td>\n",
       "      <td>123</td>\n",
       "      <td>22</td>\n",
       "      <td>24</td>\n",
       "      <td>169</td>\n",
       "      <td>613.77</td>\n",
       "      <td>164.78</td>\n",
       "      <td>194.88</td>\n",
       "      <td>973.43</td>\n",
       "    </tr>\n",
       "    <tr>\n",
       "      <th>1</th>\n",
       "      <td>2</td>\n",
       "      <td>1001</td>\n",
       "      <td>2015-11-05T03:34:33.000Z</td>\n",
       "      <td>190</td>\n",
       "      <td>41</td>\n",
       "      <td>57</td>\n",
       "      <td>288</td>\n",
       "      <td>948.10</td>\n",
       "      <td>307.09</td>\n",
       "      <td>462.84</td>\n",
       "      <td>1718.03</td>\n",
       "    </tr>\n",
       "    <tr>\n",
       "      <th>2</th>\n",
       "      <td>3</td>\n",
       "      <td>1001</td>\n",
       "      <td>2015-12-04T04:21:55.000Z</td>\n",
       "      <td>85</td>\n",
       "      <td>47</td>\n",
       "      <td>0</td>\n",
       "      <td>132</td>\n",
       "      <td>424.15</td>\n",
       "      <td>352.03</td>\n",
       "      <td>0.00</td>\n",
       "      <td>776.18</td>\n",
       "    </tr>\n",
       "    <tr>\n",
       "      <th>3</th>\n",
       "      <td>4</td>\n",
       "      <td>1001</td>\n",
       "      <td>2016-01-02T01:18:24.000Z</td>\n",
       "      <td>144</td>\n",
       "      <td>32</td>\n",
       "      <td>0</td>\n",
       "      <td>176</td>\n",
       "      <td>718.56</td>\n",
       "      <td>239.68</td>\n",
       "      <td>0.00</td>\n",
       "      <td>958.24</td>\n",
       "    </tr>\n",
       "    <tr>\n",
       "      <th>4</th>\n",
       "      <td>5</td>\n",
       "      <td>1001</td>\n",
       "      <td>2016-02-01T19:27:27.000Z</td>\n",
       "      <td>108</td>\n",
       "      <td>29</td>\n",
       "      <td>28</td>\n",
       "      <td>165</td>\n",
       "      <td>538.92</td>\n",
       "      <td>217.21</td>\n",
       "      <td>227.36</td>\n",
       "      <td>983.49</td>\n",
       "    </tr>\n",
       "  </tbody>\n",
       "</table>\n",
       "</div>"
      ],
      "text/plain": [
       "   id  account_id               occurred_at  standard_qty  gloss_qty  \\\n",
       "0   1        1001  2015-10-06T17:31:14.000Z           123         22   \n",
       "1   2        1001  2015-11-05T03:34:33.000Z           190         41   \n",
       "2   3        1001  2015-12-04T04:21:55.000Z            85         47   \n",
       "3   4        1001  2016-01-02T01:18:24.000Z           144         32   \n",
       "4   5        1001  2016-02-01T19:27:27.000Z           108         29   \n",
       "\n",
       "   poster_qty  total  standard_amt_usd  gloss_amt_usd  poster_amt_usd  \\\n",
       "0          24    169            613.77         164.78          194.88   \n",
       "1          57    288            948.10         307.09          462.84   \n",
       "2           0    132            424.15         352.03            0.00   \n",
       "3           0    176            718.56         239.68            0.00   \n",
       "4          28    165            538.92         217.21          227.36   \n",
       "\n",
       "   total_amt_usd  \n",
       "0         973.43  \n",
       "1        1718.03  \n",
       "2         776.18  \n",
       "3         958.24  \n",
       "4         983.49  "
      ]
     },
     "execution_count": 10,
     "metadata": {},
     "output_type": "execute_result"
    }
   ],
   "source": [
    "orders.head()\n"
   ]
  },
  {
   "cell_type": "markdown",
   "metadata": {},
   "source": [
    "# Posing questions to ask and report\n",
    "- What is the total revenue trend?\n",
    "- Revenue broken down in Regions.\n",
    "- Revenue broken down in products. (Which product brings the most revenue?)\n",
    "- Does a certain product sell more in a certain region?\n",
    "- Who are the top 5 (or 10) top performing sales rep.\n",
    "- Fractions of revenue generated by sales rep.\n",
    "- Top performing sales rep per product and region\n",
    "- Which web advertizing channel is doing best?"
   ]
  },
  {
   "cell_type": "code",
   "execution_count": 51,
   "metadata": {
    "collapsed": true
   },
   "outputs": [],
   "source": [
    "# add a new column year for easy manupulation\n",
    "orders['year'] = orders['occurred_at'].apply(lambda x: x[:4])"
   ]
  },
  {
   "cell_type": "code",
   "execution_count": 52,
   "metadata": {},
   "outputs": [
    {
     "data": {
      "text/html": [
       "<div>\n",
       "<style>\n",
       "    .dataframe thead tr:only-child th {\n",
       "        text-align: right;\n",
       "    }\n",
       "\n",
       "    .dataframe thead th {\n",
       "        text-align: left;\n",
       "    }\n",
       "\n",
       "    .dataframe tbody tr th {\n",
       "        vertical-align: top;\n",
       "    }\n",
       "</style>\n",
       "<table border=\"1\" class=\"dataframe\">\n",
       "  <thead>\n",
       "    <tr style=\"text-align: right;\">\n",
       "      <th></th>\n",
       "      <th>id</th>\n",
       "      <th>account_id</th>\n",
       "      <th>occurred_at</th>\n",
       "      <th>standard_qty</th>\n",
       "      <th>gloss_qty</th>\n",
       "      <th>poster_qty</th>\n",
       "      <th>total</th>\n",
       "      <th>standard_amt_usd</th>\n",
       "      <th>gloss_amt_usd</th>\n",
       "      <th>poster_amt_usd</th>\n",
       "      <th>total_amt_usd</th>\n",
       "      <th>year</th>\n",
       "    </tr>\n",
       "  </thead>\n",
       "  <tbody>\n",
       "    <tr>\n",
       "      <th>0</th>\n",
       "      <td>1</td>\n",
       "      <td>1001</td>\n",
       "      <td>2015-10-06T17:31:14.000Z</td>\n",
       "      <td>123</td>\n",
       "      <td>22</td>\n",
       "      <td>24</td>\n",
       "      <td>169</td>\n",
       "      <td>613.77</td>\n",
       "      <td>164.78</td>\n",
       "      <td>194.88</td>\n",
       "      <td>973.43</td>\n",
       "      <td>2015</td>\n",
       "    </tr>\n",
       "    <tr>\n",
       "      <th>1</th>\n",
       "      <td>2</td>\n",
       "      <td>1001</td>\n",
       "      <td>2015-11-05T03:34:33.000Z</td>\n",
       "      <td>190</td>\n",
       "      <td>41</td>\n",
       "      <td>57</td>\n",
       "      <td>288</td>\n",
       "      <td>948.10</td>\n",
       "      <td>307.09</td>\n",
       "      <td>462.84</td>\n",
       "      <td>1718.03</td>\n",
       "      <td>2015</td>\n",
       "    </tr>\n",
       "    <tr>\n",
       "      <th>2</th>\n",
       "      <td>3</td>\n",
       "      <td>1001</td>\n",
       "      <td>2015-12-04T04:21:55.000Z</td>\n",
       "      <td>85</td>\n",
       "      <td>47</td>\n",
       "      <td>0</td>\n",
       "      <td>132</td>\n",
       "      <td>424.15</td>\n",
       "      <td>352.03</td>\n",
       "      <td>0.00</td>\n",
       "      <td>776.18</td>\n",
       "      <td>2015</td>\n",
       "    </tr>\n",
       "    <tr>\n",
       "      <th>3</th>\n",
       "      <td>4</td>\n",
       "      <td>1001</td>\n",
       "      <td>2016-01-02T01:18:24.000Z</td>\n",
       "      <td>144</td>\n",
       "      <td>32</td>\n",
       "      <td>0</td>\n",
       "      <td>176</td>\n",
       "      <td>718.56</td>\n",
       "      <td>239.68</td>\n",
       "      <td>0.00</td>\n",
       "      <td>958.24</td>\n",
       "      <td>2016</td>\n",
       "    </tr>\n",
       "    <tr>\n",
       "      <th>4</th>\n",
       "      <td>5</td>\n",
       "      <td>1001</td>\n",
       "      <td>2016-02-01T19:27:27.000Z</td>\n",
       "      <td>108</td>\n",
       "      <td>29</td>\n",
       "      <td>28</td>\n",
       "      <td>165</td>\n",
       "      <td>538.92</td>\n",
       "      <td>217.21</td>\n",
       "      <td>227.36</td>\n",
       "      <td>983.49</td>\n",
       "      <td>2016</td>\n",
       "    </tr>\n",
       "  </tbody>\n",
       "</table>\n",
       "</div>"
      ],
      "text/plain": [
       "   id  account_id               occurred_at  standard_qty  gloss_qty  \\\n",
       "0   1        1001  2015-10-06T17:31:14.000Z           123         22   \n",
       "1   2        1001  2015-11-05T03:34:33.000Z           190         41   \n",
       "2   3        1001  2015-12-04T04:21:55.000Z            85         47   \n",
       "3   4        1001  2016-01-02T01:18:24.000Z           144         32   \n",
       "4   5        1001  2016-02-01T19:27:27.000Z           108         29   \n",
       "\n",
       "   poster_qty  total  standard_amt_usd  gloss_amt_usd  poster_amt_usd  \\\n",
       "0          24    169            613.77         164.78          194.88   \n",
       "1          57    288            948.10         307.09          462.84   \n",
       "2           0    132            424.15         352.03            0.00   \n",
       "3           0    176            718.56         239.68            0.00   \n",
       "4          28    165            538.92         217.21          227.36   \n",
       "\n",
       "   total_amt_usd  year  \n",
       "0         973.43  2015  \n",
       "1        1718.03  2015  \n",
       "2         776.18  2015  \n",
       "3         958.24  2016  \n",
       "4         983.49  2016  "
      ]
     },
     "execution_count": 52,
     "metadata": {},
     "output_type": "execute_result"
    }
   ],
   "source": [
    "orders.head()\n"
   ]
  },
  {
   "cell_type": "code",
   "execution_count": 53,
   "metadata": {
    "collapsed": true
   },
   "outputs": [],
   "source": [
    "# group by year\n",
    "order_total = orders.groupby('year').sum().reset_index()"
   ]
  },
  {
   "cell_type": "code",
   "execution_count": 54,
   "metadata": {},
   "outputs": [
    {
     "data": {
      "text/html": [
       "<div>\n",
       "<style>\n",
       "    .dataframe thead tr:only-child th {\n",
       "        text-align: right;\n",
       "    }\n",
       "\n",
       "    .dataframe thead th {\n",
       "        text-align: left;\n",
       "    }\n",
       "\n",
       "    .dataframe tbody tr th {\n",
       "        vertical-align: top;\n",
       "    }\n",
       "</style>\n",
       "<table border=\"1\" class=\"dataframe\">\n",
       "  <thead>\n",
       "    <tr style=\"text-align: right;\">\n",
       "      <th></th>\n",
       "      <th>year</th>\n",
       "      <th>id</th>\n",
       "      <th>account_id</th>\n",
       "      <th>standard_qty</th>\n",
       "      <th>gloss_qty</th>\n",
       "      <th>poster_qty</th>\n",
       "      <th>total</th>\n",
       "      <th>standard_amt_usd</th>\n",
       "      <th>gloss_amt_usd</th>\n",
       "      <th>poster_amt_usd</th>\n",
       "      <th>total_amt_usd</th>\n",
       "    </tr>\n",
       "  </thead>\n",
       "  <tbody>\n",
       "    <tr>\n",
       "      <th>0</th>\n",
       "      <td>2013</td>\n",
       "      <td>344889</td>\n",
       "      <td>261339</td>\n",
       "      <td>26554</td>\n",
       "      <td>20686</td>\n",
       "      <td>11070</td>\n",
       "      <td>58310</td>\n",
       "      <td>132504.46</td>\n",
       "      <td>154938.14</td>\n",
       "      <td>89888.40</td>\n",
       "      <td>377331.00</td>\n",
       "    </tr>\n",
       "    <tr>\n",
       "      <th>1</th>\n",
       "      <td>2014</td>\n",
       "      <td>4517678</td>\n",
       "      <td>3467696</td>\n",
       "      <td>353967</td>\n",
       "      <td>171829</td>\n",
       "      <td>125100</td>\n",
       "      <td>650896</td>\n",
       "      <td>1766295.33</td>\n",
       "      <td>1286999.21</td>\n",
       "      <td>1015812.00</td>\n",
       "      <td>4069106.54</td>\n",
       "    </tr>\n",
       "    <tr>\n",
       "      <th>2</th>\n",
       "      <td>2015</td>\n",
       "      <td>5790297</td>\n",
       "      <td>4475745</td>\n",
       "      <td>477789</td>\n",
       "      <td>263251</td>\n",
       "      <td>171932</td>\n",
       "      <td>912972</td>\n",
       "      <td>2384167.11</td>\n",
       "      <td>1971749.99</td>\n",
       "      <td>1396087.84</td>\n",
       "      <td>5752004.94</td>\n",
       "    </tr>\n",
       "    <tr>\n",
       "      <th>3</th>\n",
       "      <td>2016</td>\n",
       "      <td>13139696</td>\n",
       "      <td>10123207</td>\n",
       "      <td>1074751</td>\n",
       "      <td>553815</td>\n",
       "      <td>413034</td>\n",
       "      <td>2041600</td>\n",
       "      <td>5363007.49</td>\n",
       "      <td>4148074.35</td>\n",
       "      <td>3353836.08</td>\n",
       "      <td>12864917.92</td>\n",
       "    </tr>\n",
       "    <tr>\n",
       "      <th>4</th>\n",
       "      <td>2017</td>\n",
       "      <td>98768</td>\n",
       "      <td>74265</td>\n",
       "      <td>5285</td>\n",
       "      <td>4192</td>\n",
       "      <td>2510</td>\n",
       "      <td>11987</td>\n",
       "      <td>26372.15</td>\n",
       "      <td>31398.08</td>\n",
       "      <td>20381.20</td>\n",
       "      <td>78151.43</td>\n",
       "    </tr>\n",
       "  </tbody>\n",
       "</table>\n",
       "</div>"
      ],
      "text/plain": [
       "   year        id  account_id  standard_qty  gloss_qty  poster_qty    total  \\\n",
       "0  2013    344889      261339         26554      20686       11070    58310   \n",
       "1  2014   4517678     3467696        353967     171829      125100   650896   \n",
       "2  2015   5790297     4475745        477789     263251      171932   912972   \n",
       "3  2016  13139696    10123207       1074751     553815      413034  2041600   \n",
       "4  2017     98768       74265          5285       4192        2510    11987   \n",
       "\n",
       "   standard_amt_usd  gloss_amt_usd  poster_amt_usd  total_amt_usd  \n",
       "0         132504.46      154938.14        89888.40      377331.00  \n",
       "1        1766295.33     1286999.21      1015812.00     4069106.54  \n",
       "2        2384167.11     1971749.99      1396087.84     5752004.94  \n",
       "3        5363007.49     4148074.35      3353836.08    12864917.92  \n",
       "4          26372.15       31398.08        20381.20       78151.43  "
      ]
     },
     "execution_count": 54,
     "metadata": {},
     "output_type": "execute_result"
    }
   ],
   "source": [
    "order_total"
   ]
  },
  {
   "cell_type": "code",
   "execution_count": 55,
   "metadata": {},
   "outputs": [
    {
     "data": {
      "text/plain": [
       "Text(0.5,1,u'Revenue Trend')"
      ]
     },
     "execution_count": 55,
     "metadata": {},
     "output_type": "execute_result"
    },
    {
     "data": {
      "image/png": "[encoded data removed]",
      "text/plain": [
       "<matplotlib.figure.Figure at 0x1a2119dc90>"
      ]
     },
     "metadata": {},
     "output_type": "display_data"
    }
   ],
   "source": [
    "order_total['total_amt_usd'] = order_total['total_amt_usd']/1000.00\n",
    "sns.barplot(x='year',y='total_amt_usd', data = order_total, ci=None, color='green')\n",
    "plt.ylabel('Total Amt (Thousand$)')\n",
    "plt.title('Revenue Trend')"
   ]
  },
  {
   "cell_type": "markdown",
   "metadata": {},
   "source": [
    "Since it was early January of 2017, the turnover for 2017 is still not realized. Otherwise, the barplot shows the growth in revenue for the years."
   ]
  },
  {
   "cell_type": "markdown",
   "metadata": {
    "collapsed": true
   },
   "source": [
    "We cant't simple break down the revenue into regions since the orders are only associated with client company, for which only a physical GPS coordinate is recorded. It will be a significant work to map those coordinates into geographical regions.\n",
    "\n",
    "We can however break down the revenue into different products.\n"
   ]
  },
  {
   "cell_type": "code",
   "execution_count": 88,
   "metadata": {},
   "outputs": [
    {
     "data": {
      "image/png": "[encoded data removed]",
      "text/plain": [
       "<matplotlib.figure.Figure at 0x1a239e0f10>"
      ]
     },
     "metadata": {},
     "output_type": "display_data"
    }
   ],
   "source": [
    "# create a column for each\n",
    "# Data to plot\n",
    "fix, axes = plt.subplots(1,4, figsize=(15,3))\n",
    "xlabels = list(order_total['year'])\n",
    "pielabels = ['Standard', 'Glossy', 'Poster']\n",
    "colors = ['gold', 'lightgreen', 'lightskyblue']\n",
    "explode = (0.1, 0, 0)  # explode 1st slice\n",
    "\n",
    "for i in range(0,4):\n",
    "    revenue_temp = order_total.iloc[i]\n",
    "    revenue_split = [revenue_temp.standard_amt_usd, revenue_temp.gloss_amt_usd, revenue_temp.poster_amt_usd]\n",
    "    #print revenue_split\n",
    "    axes[i].pie(revenue_split, explode=explode, labels=pielabels, \n",
    "                colors=colors, autopct='%1.1f%%', shadow=True, startangle=140)\n",
    "    axes[i].set_xlabel(xlabels[i])\n"
   ]
  },
  {
   "cell_type": "markdown",
   "metadata": {},
   "source": [
    "It appears that the revenue share changed from 2013 to 2014, but then stayed almost same from 2014 to 2016. In 2013 Glossy had the highest revenue share followed by Standard, that changed in 2014 with Standard taking the highest spot.\n",
    "\n",
    "Does a certain product sell more in a certain region? This is difficult to answer as before since the order table does not have any link to region information. We can however, answer who are the top 5 clients."
   ]
  },
  {
   "cell_type": "code",
   "execution_count": 176,
   "metadata": {},
   "outputs": [],
   "source": [
    "# Top clients\n",
    "# group by year, standard_amt_usd\tgloss_amt_usd\tposter_amt_usd\ttotal_amt_usd\n",
    "order_clients = orders[['account_id','standard_amt_usd', 'gloss_amt_usd', 'poster_amt_usd', 'total_amt_usd']]\n",
    "client_total = order_clients.groupby('account_id').sum().reset_index()"
   ]
  },
  {
   "cell_type": "code",
   "execution_count": null,
   "metadata": {},
   "outputs": [],
   "source": []
  },
  {
   "cell_type": "code",
   "execution_count": 177,
   "metadata": {},
   "outputs": [
    {
     "data": {
      "text/html": [
       "<div>\n",
       "<style>\n",
       "    .dataframe thead tr:only-child th {\n",
       "        text-align: right;\n",
       "    }\n",
       "\n",
       "    .dataframe thead th {\n",
       "        text-align: left;\n",
       "    }\n",
       "\n",
       "    .dataframe tbody tr th {\n",
       "        vertical-align: top;\n",
       "    }\n",
       "</style>\n",
       "<table border=\"1\" class=\"dataframe\">\n",
       "  <thead>\n",
       "    <tr style=\"text-align: right;\">\n",
       "      <th></th>\n",
       "      <th>account_id</th>\n",
       "      <th>standard_amt_usd</th>\n",
       "      <th>gloss_amt_usd</th>\n",
       "      <th>poster_amt_usd</th>\n",
       "      <th>total_amt_usd</th>\n",
       "    </tr>\n",
       "  </thead>\n",
       "  <tbody>\n",
       "    <tr>\n",
       "      <th>320</th>\n",
       "      <td>4211</td>\n",
       "      <td>87265.12</td>\n",
       "      <td>242990.58</td>\n",
       "      <td>52617.60</td>\n",
       "      <td>382873.30</td>\n",
       "    </tr>\n",
       "    <tr>\n",
       "      <th>314</th>\n",
       "      <td>4151</td>\n",
       "      <td>70373.97</td>\n",
       "      <td>120274.42</td>\n",
       "      <td>154970.20</td>\n",
       "      <td>345618.59</td>\n",
       "    </tr>\n",
       "    <tr>\n",
       "      <th>30</th>\n",
       "      <td>1301</td>\n",
       "      <td>78832.02</td>\n",
       "      <td>112724.50</td>\n",
       "      <td>135262.96</td>\n",
       "      <td>326819.48</td>\n",
       "    </tr>\n",
       "    <tr>\n",
       "      <th>86</th>\n",
       "      <td>1871</td>\n",
       "      <td>67779.17</td>\n",
       "      <td>141216.46</td>\n",
       "      <td>91699.16</td>\n",
       "      <td>300694.79</td>\n",
       "    </tr>\n",
       "    <tr>\n",
       "      <th>310</th>\n",
       "      <td>4111</td>\n",
       "      <td>49081.64</td>\n",
       "      <td>82225.22</td>\n",
       "      <td>162554.28</td>\n",
       "      <td>293861.14</td>\n",
       "    </tr>\n",
       "  </tbody>\n",
       "</table>\n",
       "</div>"
      ],
      "text/plain": [
       "     account_id  standard_amt_usd  gloss_amt_usd  poster_amt_usd  \\\n",
       "320        4211          87265.12      242990.58        52617.60   \n",
       "314        4151          70373.97      120274.42       154970.20   \n",
       "30         1301          78832.02      112724.50       135262.96   \n",
       "86         1871          67779.17      141216.46        91699.16   \n",
       "310        4111          49081.64       82225.22       162554.28   \n",
       "\n",
       "     total_amt_usd  \n",
       "320      382873.30  \n",
       "314      345618.59  \n",
       "30       326819.48  \n",
       "86       300694.79  \n",
       "310      293861.14  "
      ]
     },
     "execution_count": 177,
     "metadata": {},
     "output_type": "execute_result"
    }
   ],
   "source": [
    "client_total.sort_values(by=['total_amt_usd'], ascending=False).head(5)"
   ]
  },
  {
   "cell_type": "code",
   "execution_count": 188,
   "metadata": {},
   "outputs": [
    {
     "name": "stdout",
     "output_type": "stream",
     "text": [
      "EOG Resources\n",
      "Mosaic\n",
      "IBM\n",
      "General Dynamics\n",
      "Republic Services\n"
     ]
    }
   ],
   "source": [
    "# we can print the names of these companies\n",
    "top5 = client_total.sort_values(by=['total_amt_usd'], ascending=False)[:5]['account_id']\n",
    "for t in top5:\n",
    "    selrow = accounts[accounts['id']==t]['name'].tolist()\n",
    "    print(selrow[0])"
   ]
  },
  {
   "cell_type": "markdown",
   "metadata": {},
   "source": [
    "Using the same line of datapath we can find the top 5 sales rep. (Sales rep for these top 5 companies.)"
   ]
  },
  {
   "cell_type": "code",
   "execution_count": 195,
   "metadata": {},
   "outputs": [
    {
     "name": "stdout",
     "output_type": "stream",
     "text": [
      "Arica Stoltzfus\n",
      "Elwood Shutt\n",
      "Necole Victory\n",
      "Tia Amato\n",
      "Brandie Riva\n"
     ]
    }
   ],
   "source": [
    "# we can print the names of these companies\n",
    "top5 = client_total.sort_values(by=['total_amt_usd'], ascending=False)[:5]['account_id']\n",
    "for t in top5:\n",
    "    selrow = accounts[accounts['id']==t]['sales_rep_id'].tolist()\n",
    "    rep_name = sales_rep[sales_rep['id']==selrow]['name'].tolist()\n",
    "    print(rep_name[0])"
   ]
  },
  {
   "cell_type": "markdown",
   "metadata": {},
   "source": [
    "The next two questions are also not obvisous to answer. Lets look at web_events and try to answer the question which advertising channel is the most revenue generating."
   ]
  },
  {
   "cell_type": "code",
   "execution_count": 196,
   "metadata": {},
   "outputs": [],
   "source": [
    "# add a new column year for easy manupulation\n",
    "web_events['year'] = web_events['occurred_at'].apply(lambda x: x[:4])"
   ]
  },
  {
   "cell_type": "code",
   "execution_count": 198,
   "metadata": {},
   "outputs": [
    {
     "data": {
      "text/plain": [
       "<matplotlib.axes._subplots.AxesSubplot at 0x1a237b6610>"
      ]
     },
     "execution_count": 198,
     "metadata": {},
     "output_type": "execute_result"
    },
    {
     "data": {
      "image/png": "[encoded data removed]",
      "text/plain": [
       "<matplotlib.figure.Figure at 0x1a23b1b4d0>"
      ]
     },
     "metadata": {},
     "output_type": "display_data"
    }
   ],
   "source": [
    "sns.countplot(x='year', data = web_events, hue='channel')"
   ]
  },
  {
   "cell_type": "markdown",
   "metadata": {},
   "source": [
    "Though this plot shows the count of order (not the dollar values of orders), it is quite evident that direct marketing\n",
    "brings the most orders. Among the advertising channels, facebook, organic and adwords- all three bring almost the same\n",
    "amount of orders."
   ]
  },
  {
   "cell_type": "markdown",
   "metadata": {},
   "source": [
    "## Summary\n",
    "Looking at the sales data for Parch and Posey for last 4 years, Standard papers sells the most, and the most effective \n",
    "advertising is direct marketing."
   ]
  },
  {
   "cell_type": "code",
   "execution_count": null,
   "metadata": {
    "collapsed": true
   },
   "outputs": [],
   "source": []
  }
 ],
 "metadata": {
  "kernelspec": {
   "display_name": "Python 2",
   "language": "python",
   "name": "python2"
  },
  "language_info": {
   "codemirror_mode": {
    "name": "ipython",
    "version": 2
   },
   "file_extension": ".py",
   "mimetype": "text/x-python",
   "name": "python",
   "nbconvert_exporter": "python",
   "pygments_lexer": "ipython2",
   "version": "2.7.14"
  }
 },
 "nbformat": 4,
 "nbformat_minor": 2
}
